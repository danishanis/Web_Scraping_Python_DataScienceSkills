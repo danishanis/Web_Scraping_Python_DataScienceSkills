{
  "nbformat": 4,
  "nbformat_minor": 0,
  "metadata": {
    "colab": {
      "name": "WebScraping.ipynb",
      "provenance": [],
      "collapsed_sections": [],
      "toc_visible": true
    },
    "kernelspec": {
      "display_name": "Python 3",
      "language": "python",
      "name": "python3"
    },
    "language_info": {
      "codemirror_mode": {
        "name": "ipython",
        "version": 3
      },
      "file_extension": ".py",
      "mimetype": "text/x-python",
      "name": "python",
      "nbconvert_exporter": "python",
      "pygments_lexer": "ipython3",
      "version": "3.5.2"
    }
  },
  "cells": [
    {
      "cell_type": "markdown",
      "metadata": {
        "id": "XG3XVn2xVFBc",
        "colab_type": "text"
      },
      "source": [
        "# **Python Web Scraping for Job Search**"
      ]
    },
    {
      "cell_type": "markdown",
      "metadata": {
        "id": "qrHlpTagVFBi",
        "colab_type": "text"
      },
      "source": [
        "####**Loading Libraries**"
      ]
    },
    {
      "cell_type": "code",
      "metadata": {
        "colab_type": "code",
        "id": "M0ySnQHlxacU",
        "colab": {}
      },
      "source": [
        "#!pip install numpy\n",
        "#!pip install pandas\n",
        "#!pip install bs4\n",
        "#!pip install ast\n",
        "#!pip install matplotlib\n",
        "\n",
        "import string\n",
        "import numpy as np\n",
        "import pandas as pd\n",
        "import matplotlib.pyplot as plt\n",
        "import urllib\n",
        "from bs4 import BeautifulSoup\n",
        "import datetime\n",
        "import ast\n",
        "import csv\n",
        "from IPython.display import HTML\n",
        "\n",
        "%matplotlib inline"
      ],
      "execution_count": 0,
      "outputs": []
    },
    {
      "cell_type": "code",
      "metadata": {
        "colab_type": "code",
        "id": "8HqAquhkxacZ",
        "colab": {}
      },
      "source": [
        "#We are allowed to scrap data from indeed.ca\n",
        "HTML='https://www.indeed.ca/jobs?q=data+scientist&l=Toronto%2C+ON'"
      ],
      "execution_count": 0,
      "outputs": []
    },
    {
      "cell_type": "markdown",
      "metadata": {
        "id": "8wqLh8vnVFB3",
        "colab_type": "text"
      },
      "source": [
        "####**BeautifulSoup Library to Extract HTML Content on Each Search Page**\n",
        "The Beautiful Soup function can be used to extract all text from the HTML indicated above. This needs to be done for each page of results."
      ]
    },
    {
      "cell_type": "code",
      "metadata": {
        "colab_type": "code",
        "id": "BWVIAdV3xace",
        "colab": {}
      },
      "source": [
        "url = urllib.request.urlopen(HTML)\n",
        "content = url.read()\n",
        "soup = BeautifulSoup(content, 'lxml')\n",
        "#print(soup)"
      ],
      "execution_count": 0,
      "outputs": []
    },
    {
      "cell_type": "markdown",
      "metadata": {
        "id": "b9SXOezKVFCC",
        "colab_type": "text"
      },
      "source": [
        "####**Extracting Hyperlinks for Each Job Posting**\n",
        "\n",
        "We are ultimately concerned with the information on ecah job posting. Hence we need to extract the hyperlink for every job posting on each search page."
      ]
    },
    {
      "cell_type": "code",
      "metadata": {
        "colab_type": "code",
        "id": "IqGQdePAxach",
        "colab": {}
      },
      "source": [
        "links = []\n",
        "\n",
        "# This for loop searches the first 40 pages of Indeed and scrapes the job urls. \n",
        "for i in range (0, 40):\n",
        "   \n",
        "    url = urllib.request.urlopen('https://www.indeed.ca/jobs?q=data+scientist&start='+str(i*20)) #I multiply i by 20 because it shows 20 results per page\n",
        "    content = url.read()\n",
        "    soup = BeautifulSoup(content, 'lxml')\n",
        "    for divTag in soup.find_all('div',{'class': 'title'}):\n",
        "        for aTag in divTag.find_all('a'):\n",
        "            if 'pagead' in aTag.get('href'): #check for and remove all job ads\n",
        "                count = 1\n",
        "            else:\n",
        "                links.append('https://www.indeed.ca'+aTag.get('href'))\n",
        "            \n",
        "links = links[:-1]\n",
        "#links       "
      ],
      "execution_count": 0,
      "outputs": []
    },
    {
      "cell_type": "markdown",
      "metadata": {
        "id": "B5zuHccgVFCN",
        "colab_type": "text"
      },
      "source": [
        "**Beautiful Soup is run again to Extract Hyperlink Content**\n",
        "\n",
        "Using the tags / classes from HTML format, each of the relevant attributes can be extracted for each job posting. In addition to the defined attributes, the code also runs through the text and looks for key words outlining both business and data scientist skills"
      ]
    },
    {
      "cell_type": "code",
      "metadata": {
        "colab_type": "code",
        "id": "zk4TEN34xacl",
        "scrolled": true,
        "colab": {}
      },
      "source": [
        "jobResults = []\n",
        "jobSpecificResults = []\n",
        "techBuzzwordResults = []\n",
        "businessBuzzwordResults = []\n",
        "\n",
        "#The '.find' tool returns a value of '-1' if it is not in the text, and a large integer value if it is.\n",
        "#This function simplifies this data into a simple '1' if it is in the data, and a '0' if it isn't\n",
        "def searchSimplifier(val):\n",
        "    if val > 0:\n",
        "            val = 1\n",
        "    else:\n",
        "            val = 0\n",
        "    return val\n",
        "\n",
        "count = 0                \n",
        "salary_list = []\n",
        "for link in links:\n",
        "\n",
        "    count = count+1\n",
        "\n",
        "    url = urllib.request.urlopen(link)\n",
        "    content = url.read()\n",
        "    soup = BeautifulSoup(content, 'lxml')\n",
        "    mark = \"uf\"\n",
        "    job_data = soup.findAll('div',{'class': 'jobsearch-JobComponent icl-u-xs-mt--sm'})\n",
        "    \n",
        "    #Getting salary data was a bit trickier, so it required this extra code\n",
        "    salary = soup.findAll('span', {'class': 'jobsearch-JobMetadataHeader-iconLabel'})\n",
        "    if len(salary) == 0:\n",
        "        continue\n",
        "    if len(salary) > 1:\n",
        "        for s in salary:\n",
        "            if any(char.isdigit() for char in s.get_text()):\n",
        "                salary_list.append(s.get_text())\n",
        "                mark = \"f\"\n",
        "                continue\n",
        "    if mark == \"uf\":\n",
        "        salary_list.append(\"NIL\")\n",
        "                \n",
        "\n",
        "    for item in job_data:\n",
        "\n",
        "\n",
        "        #Get Position Title\n",
        "        positiontitle = item.find(class_='icl-u-xs-mb--xs icl-u-xs-mt--none jobsearch-JobInfoHeader-title').get_text()\n",
        "\n",
        "\n",
        "        #Get Company Name\n",
        "        companyname = item.find(class_='icl-u-lg-mr--sm icl-u-xs-mr--xs').get_text()\n",
        "        companyname = companyname.strip('\\t\\n\\r')\n",
        "\n",
        "        #Get location\n",
        "        joblocation = item.find(class_='jobsearch-JobMetadataHeader-iconLabel').get_text()\n",
        "\n",
        "        #Get Days Ago Posted\n",
        "        #Using try/except lets us try to access div classes that we believe to be there, but may not be\n",
        "        \n",
        "        try:\n",
        "            daysagoposted = item.find(class_='jobsearch-JobMetadataFooter').get_text()\n",
        "        except:\n",
        "            daysagoposted = \"NIL\"\n",
        "        try:\n",
        "            daysagoposted = daysagoposted.replace(item.find(class_='icl-u-textColor--success').get_text(),'')\n",
        "        except AttributeError:\n",
        "            daysagoposted = daysagoposted\n",
        "        try:\n",
        "            daysagoposted = daysagoposted.replace(item.find(class_='icl-u-lg-inline icl-u-xs-hide').get_text(),'')\n",
        "        except AttributeError:\n",
        "            daysagoposted = daysagoposted\n",
        "\n",
        "        try:\n",
        "            daysagoposted = daysagoposted.replace('report job','')\n",
        "        except AttributeError:\n",
        "            daysagoposted = daysagoposted\n",
        "        try:\n",
        "            daysagoposted = daysagoposted.replace(item.find(class_='icl-u-lg-inline icl-us-xs-hide').get_text(),'')\n",
        "        except AttributeError:\n",
        "            daysagoposted = daysagoposted\n",
        "\n",
        "        daysagoposted = daysagoposted.replace(' - ','')\n",
        "\n",
        "        #searching for Specific Key Words\n",
        "\n",
        "        textFind = item.find(class_='jobsearch-jobDescriptionText').get_text() #Saves the text in a \n",
        "        textFind = textFind.translate(textFind.maketrans(\"\",\"\", string.punctuation))\n",
        "        textFindLow = textFind.lower()\n",
        "        pythonFind = searchSimplifier(textFindLow.find(\"python\"))\n",
        "        hadoopFind = searchSimplifier(textFindLow.find(\"hadoop\"))\n",
        "        SASFind = searchSimplifier(textFind.find(\"SAS\"))\n",
        "        RFind = searchSimplifier(textFind.find(\" R \"))\n",
        "        javaFind = searchSimplifier(textFindLow.find(\"java\"))\n",
        "        excelFind = searchSimplifier(textFindLow.find(\"excel\"))\n",
        "        ccplusplusFind = searchSimplifier(textFind.find(\" C \") +\\\n",
        "                                          (textFind.find(\" CC \"))) # C and C++ --> C ; C/C++ --> CC\n",
        "        MATLABFind = searchSimplifier(textFindLow.find(\"matlab\"))\n",
        "        SQLFind = searchSimplifier(textFind.find(\"SQL\"))\n",
        "        SPSSFind = searchSimplifier(textFind.find(\"SPSS\"))\n",
        "        tableauFind = searchSimplifier(textFindLow.find(\"tableau\"))\n",
        "        SparkFind = searchSimplifier(textFind.find(\"Spark\")) #in case they use spark in it's literal context\n",
        "        communicationFind = searchSimplifier(textFindLow.find(\"communication\"))\n",
        "        presentationFind = searchSimplifier(textFindLow.find(\"presentation\"))\n",
        "        problemsolvingFind = searchSimplifier(textFindLow.find(\"problem solving\"))\n",
        "        projectmanagementFind = searchSimplifier(textFindLow.find(\"project management\"))\n",
        "        consultingFind = searchSimplifier(textFindLow.find(\"consulting\"))\n",
        "        leadershipFind = searchSimplifier(textFindLow.find(\"leadership\"))\n",
        "\n",
        "\n",
        "        #Consolidate all of the information\n",
        "        jobResults.append(((\n",
        "            positiontitle, companyname, joblocation, daysagoposted, excelFind, pythonFind, RFind, javaFind,\n",
        "                ccplusplusFind, MATLABFind, SASFind, SQLFind, SPSSFind, tableauFind, hadoopFind, SparkFind, \n",
        "                communicationFind, presentationFind, problemsolvingFind, projectmanagementFind,\n",
        "                consultingFind, leadershipFind)))\n",
        "        jobSpecificResults.append((positiontitle, companyname, joblocation, daysagoposted))\n",
        "        techBuzzwordResults.append(((\n",
        "            excelFind, pythonFind, RFind, javaFind,\n",
        "            ccplusplusFind, MATLABFind, SASFind, SQLFind, SPSSFind, tableauFind, hadoopFind, SparkFind)))\n",
        "        businessBuzzwordResults.append(((\n",
        "            communicationFind, presentationFind, problemsolvingFind, projectmanagementFind,\n",
        "            consultingFind, leadershipFind)))\n",
        "        "
      ],
      "execution_count": 0,
      "outputs": []
    },
    {
      "cell_type": "markdown",
      "metadata": {
        "id": "Dm8GTwwoVFCc",
        "colab_type": "text"
      },
      "source": [
        "####**Create a Table and Extracting CSV file**\n",
        "To visualize the data in a table format, a table is created in pandas dataframe and a csv extracted."
      ]
    },
    {
      "cell_type": "code",
      "metadata": {
        "colab_type": "code",
        "id": "s3gtY1_Exaco",
        "outputId": "6582ee69-aedd-4dcf-9e49-3becc9d1838b",
        "colab": {
          "base_uri": "https://localhost:8080/",
          "height": 334
        }
      },
      "source": [
        "# Create a table to summarize results\n",
        "topJobDF = pd.DataFrame(jobResults, \n",
        "                          columns=['positiontitle', 'companyname', 'joblocation',\n",
        "                                   'daysagoposted', 'excelFind', 'pythonFind', \n",
        "                                   'RFind', 'javaFind', 'ccplusplusFind', \n",
        "                                   'MATLABFind', 'SASFind', 'SQLFind', 'SPSSFind',\n",
        "                                   'tableauFind', 'hadoopFind', 'SparkFind', \n",
        "                                   'communicationFind', 'presentationFind', \n",
        "                                   'problemsolvingFind', \n",
        "                                   'projectmanagementFind', \n",
        "                                   'consultingFind', 'leadershipFind'])\n",
        "topJobDF.insert(4, \"Salary\", salary_list, True) \n",
        "topJobDF.head()"
      ],
      "execution_count": 15,
      "outputs": [
        {
          "output_type": "execute_result",
          "data": {
            "text/html": [
              "<div>\n",
              "<style scoped>\n",
              "    .dataframe tbody tr th:only-of-type {\n",
              "        vertical-align: middle;\n",
              "    }\n",
              "\n",
              "    .dataframe tbody tr th {\n",
              "        vertical-align: top;\n",
              "    }\n",
              "\n",
              "    .dataframe thead th {\n",
              "        text-align: right;\n",
              "    }\n",
              "</style>\n",
              "<table border=\"1\" class=\"dataframe\">\n",
              "  <thead>\n",
              "    <tr style=\"text-align: right;\">\n",
              "      <th></th>\n",
              "      <th>positiontitle</th>\n",
              "      <th>companyname</th>\n",
              "      <th>joblocation</th>\n",
              "      <th>daysagoposted</th>\n",
              "      <th>Salary</th>\n",
              "      <th>excelFind</th>\n",
              "      <th>pythonFind</th>\n",
              "      <th>RFind</th>\n",
              "      <th>javaFind</th>\n",
              "      <th>ccplusplusFind</th>\n",
              "      <th>MATLABFind</th>\n",
              "      <th>SASFind</th>\n",
              "      <th>SQLFind</th>\n",
              "      <th>SPSSFind</th>\n",
              "      <th>tableauFind</th>\n",
              "      <th>hadoopFind</th>\n",
              "      <th>SparkFind</th>\n",
              "      <th>communicationFind</th>\n",
              "      <th>presentationFind</th>\n",
              "      <th>problemsolvingFind</th>\n",
              "      <th>projectmanagementFind</th>\n",
              "      <th>consultingFind</th>\n",
              "      <th>leadershipFind</th>\n",
              "    </tr>\n",
              "  </thead>\n",
              "  <tbody>\n",
              "    <tr>\n",
              "      <th>0</th>\n",
              "      <td>Junior Data Scientist</td>\n",
              "      <td>Fiddlehead</td>\n",
              "      <td>Moncton, NB</td>\n",
              "      <td>Today</td>\n",
              "      <td>NIL</td>\n",
              "      <td>0</td>\n",
              "      <td>1</td>\n",
              "      <td>1</td>\n",
              "      <td>1</td>\n",
              "      <td>0</td>\n",
              "      <td>0</td>\n",
              "      <td>0</td>\n",
              "      <td>0</td>\n",
              "      <td>0</td>\n",
              "      <td>0</td>\n",
              "      <td>0</td>\n",
              "      <td>0</td>\n",
              "      <td>0</td>\n",
              "      <td>0</td>\n",
              "      <td>1</td>\n",
              "      <td>0</td>\n",
              "      <td>0</td>\n",
              "      <td>0</td>\n",
              "    </tr>\n",
              "    <tr>\n",
              "      <th>1</th>\n",
              "      <td>Data Scientist</td>\n",
              "      <td>Fiddlehead</td>\n",
              "      <td>Moncton, NB</td>\n",
              "      <td>Today</td>\n",
              "      <td>NIL</td>\n",
              "      <td>0</td>\n",
              "      <td>1</td>\n",
              "      <td>0</td>\n",
              "      <td>0</td>\n",
              "      <td>0</td>\n",
              "      <td>0</td>\n",
              "      <td>0</td>\n",
              "      <td>0</td>\n",
              "      <td>0</td>\n",
              "      <td>0</td>\n",
              "      <td>0</td>\n",
              "      <td>0</td>\n",
              "      <td>1</td>\n",
              "      <td>0</td>\n",
              "      <td>1</td>\n",
              "      <td>0</td>\n",
              "      <td>0</td>\n",
              "      <td>0</td>\n",
              "    </tr>\n",
              "    <tr>\n",
              "      <th>2</th>\n",
              "      <td>Data Scientist</td>\n",
              "      <td>Canadian Security Intelligence Service</td>\n",
              "      <td>Ottawa, ON</td>\n",
              "      <td>Just posted</td>\n",
              "      <td>$89,400 - $108,820 a year</td>\n",
              "      <td>0</td>\n",
              "      <td>1</td>\n",
              "      <td>1</td>\n",
              "      <td>0</td>\n",
              "      <td>0</td>\n",
              "      <td>0</td>\n",
              "      <td>0</td>\n",
              "      <td>0</td>\n",
              "      <td>0</td>\n",
              "      <td>0</td>\n",
              "      <td>0</td>\n",
              "      <td>0</td>\n",
              "      <td>1</td>\n",
              "      <td>1</td>\n",
              "      <td>0</td>\n",
              "      <td>0</td>\n",
              "      <td>0</td>\n",
              "      <td>0</td>\n",
              "    </tr>\n",
              "    <tr>\n",
              "      <th>3</th>\n",
              "      <td>Data Scientist</td>\n",
              "      <td>MSi Corp (Bell Canada)</td>\n",
              "      <td>Toronto, ON</td>\n",
              "      <td>2 days ago</td>\n",
              "      <td>NIL</td>\n",
              "      <td>1</td>\n",
              "      <td>1</td>\n",
              "      <td>1</td>\n",
              "      <td>0</td>\n",
              "      <td>0</td>\n",
              "      <td>0</td>\n",
              "      <td>1</td>\n",
              "      <td>1</td>\n",
              "      <td>0</td>\n",
              "      <td>0</td>\n",
              "      <td>0</td>\n",
              "      <td>0</td>\n",
              "      <td>1</td>\n",
              "      <td>0</td>\n",
              "      <td>0</td>\n",
              "      <td>0</td>\n",
              "      <td>0</td>\n",
              "      <td>0</td>\n",
              "    </tr>\n",
              "    <tr>\n",
              "      <th>4</th>\n",
              "      <td>Data Scientist</td>\n",
              "      <td>Compest Solutions Inc</td>\n",
              "      <td>Toronto, ON</td>\n",
              "      <td>Today</td>\n",
              "      <td>$44 - $60 an hour</td>\n",
              "      <td>0</td>\n",
              "      <td>1</td>\n",
              "      <td>1</td>\n",
              "      <td>1</td>\n",
              "      <td>0</td>\n",
              "      <td>0</td>\n",
              "      <td>0</td>\n",
              "      <td>1</td>\n",
              "      <td>0</td>\n",
              "      <td>0</td>\n",
              "      <td>1</td>\n",
              "      <td>1</td>\n",
              "      <td>0</td>\n",
              "      <td>0</td>\n",
              "      <td>0</td>\n",
              "      <td>0</td>\n",
              "      <td>0</td>\n",
              "      <td>0</td>\n",
              "    </tr>\n",
              "  </tbody>\n",
              "</table>\n",
              "</div>"
            ],
            "text/plain": [
              "           positiontitle  ... leadershipFind\n",
              "0  Junior Data Scientist  ...              0\n",
              "1         Data Scientist  ...              0\n",
              "2         Data Scientist  ...              0\n",
              "3         Data Scientist  ...              0\n",
              "4         Data Scientist  ...              0\n",
              "\n",
              "[5 rows x 23 columns]"
            ]
          },
          "metadata": {
            "tags": []
          },
          "execution_count": 15
        }
      ]
    },
    {
      "cell_type": "code",
      "metadata": {
        "colab_type": "code",
        "id": "E4aKlI8axacq",
        "colab": {}
      },
      "source": [
        "export_csv = topJobDF.to_csv(r'BeautifulSoup_Scraping.csv')"
      ],
      "execution_count": 0,
      "outputs": []
    },
    {
      "cell_type": "markdown",
      "metadata": {
        "id": "HyZodiHhVFCq",
        "colab_type": "text"
      },
      "source": [
        "####**Creating Visuals Outlining Trends in Data Science required skills**\n",
        "Visualizations are created for both business skills and coding skills"
      ]
    },
    {
      "cell_type": "code",
      "metadata": {
        "colab_type": "code",
        "id": "-JjVHB_Ixact",
        "outputId": "091097b6-a794-485b-c0ea-35c7357a7a6a",
        "colab": {
          "base_uri": "https://localhost:8080/",
          "height": 467
        }
      },
      "source": [
        "#Graphing tech buzzwords\n",
        "import matplotlib.pyplot as plt; plt.rcdefaults()\n",
        "import numpy as np\n",
        "import matplotlib.pyplot as plt\n",
        "\n",
        "techCumSum = []\n",
        "\n",
        "#this function sums up the total occurrences of all specific words within the job ads.\n",
        "for i in range (0 , (len(techBuzzwordResults[0]))):\n",
        "    techSum = sum(n[i] for n in techBuzzwordResults)\n",
        "    techCumSum.append(techSum)\n",
        "    \n",
        "objects = ('Excel', 'Python', 'R', 'Java', 'C/C++', 'MATLAB', 'SAS', 'SQL', 'SPSS', 'tableau', 'hadoop', 'Spark')\n",
        "y_pos = np.arange(len(objects))\n",
        "plt.figure(figsize=(10,5))\n",
        "plt.bar(y_pos, techCumSum,  align='center', color = 'blue', alpha=0.2)\n",
        "plt.xticks(y_pos, objects)\n",
        "plt.ylabel('No. of References')\n",
        "plt.title('Key Data Science Job Skills on Indeed')\n",
        "plt.show()"
      ],
      "execution_count": 42,
      "outputs": [
        {
          "output_type": "display_data",
          "data": {
            "image/png": "[encoded data removed]",
            "text/plain": [
              "<Figure size 1000x500 with 1 Axes>"
            ]
          },
          "metadata": {
            "tags": []
          }
        }
      ]
    },
    {
      "cell_type": "code",
      "metadata": {
        "colab_type": "code",
        "id": "95ObljWRxacw",
        "outputId": "e078a771-eac0-4a29-9c6d-984c09e5615a",
        "colab": {
          "base_uri": "https://localhost:8080/",
          "height": 391
        }
      },
      "source": [
        "#Graping business buzzwords\n",
        "import matplotlib.pyplot as plt; plt.rcdefaults()\n",
        "import numpy as np\n",
        "import matplotlib.pyplot as plt\n",
        "\n",
        "businessCumSum = []\n",
        "\n",
        "#this function sums up the total occurrences of all specific words within the job ads.\n",
        "for i in range (0 , (len(businessBuzzwordResults[0]))):\n",
        "    businessSum = sum(n[i] for n in businessBuzzwordResults)\n",
        "    businessCumSum.append(businessSum)\n",
        "    \n",
        "objects = ('Communication', 'Presentation', 'Problem Solving', \n",
        "           'Project Management', 'Consulting', 'Leadership')\n",
        "y_pos = np.arange(len(objects))\n",
        "plt.figure(figsize=(12,4))\n",
        "plt.bar(y_pos, businessCumSum,  align='center', color = 'r', alpha=0.2)\n",
        "plt.xticks(y_pos, objects)\n",
        "plt.ylabel('No. of References')\n",
        "plt.title('Business Buzzwords on Indeed') \n",
        "plt.show()"
      ],
      "execution_count": 41,
      "outputs": [
        {
          "output_type": "display_data",
          "data": {
            "image/png": "[encoded data removed]",
            "text/plain": [
              "<Figure size 1200x400 with 1 Axes>"
            ]
          },
          "metadata": {
            "tags": []
          }
        }
      ]
    },
    {
      "cell_type": "code",
      "metadata": {
        "colab_type": "code",
        "id": "QC8aCLbBxacz",
        "colab": {}
      },
      "source": [
        ""
      ],
      "execution_count": 0,
      "outputs": []
    }
  ]
}